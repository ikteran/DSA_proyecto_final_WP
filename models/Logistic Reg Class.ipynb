{
 "cells": [
  {
   "cell_type": "code",
   "execution_count": 0,
   "metadata": {
    "application/vnd.databricks.v1+cell": {
     "cellMetadata": {
      "byteLimit": 2048000,
      "rowLimit": 10000
     },
     "inputWidgets": {},
     "nuid": "df04d527-277e-4f80-8b50-f0cfd659cb8f",
     "showTitle": false,
     "tableResultSettingsMap": {},
     "title": ""
    }
   },
   "outputs": [
    {
     "output_type": "display_data",
     "data": {
      "application/vnd.jupyter.widget-view+json": {
       "model_id": "7e7a415f375d46ae9e0ec13450fde882",
       "version_major": 2,
       "version_minor": 0
      },
      "text/plain": [
       "Uploading artifacts:   0%|          | 0/1 [00:00<?, ?it/s]"
      ]
     },
     "metadata": {},
     "output_type": "display_data"
    },
    {
     "output_type": "display_data",
     "data": {
      "application/vnd.jupyter.widget-view+json": {
       "model_id": "6a40c1fe2fe44826a26a869de563145b",
       "version_major": 2,
       "version_minor": 0
      },
      "text/plain": [
       "Uploading artifacts:   0%|          | 0/9 [00:00<?, ?it/s]"
      ]
     },
     "metadata": {},
     "output_type": "display_data"
    },
    {
     "output_type": "display_data",
     "data": {
      "application/vnd.jupyter.widget-view+json": {
       "model_id": "7c36446301f1486183e4058f857a98b8",
       "version_major": 2,
       "version_minor": 0
      },
      "text/plain": [
       "Uploading artifacts:   0%|          | 0/9 [00:00<?, ?it/s]"
      ]
     },
     "metadata": {},
     "output_type": "display_data"
    },
    {
     "output_type": "stream",
     "name": "stdout",
     "output_type": "stream",
     "text": [
      "Precisión de Ubicación: 10.00%\nPrecisión (Weighted): 0.01\nRecall (Weighted): 0.10\nF1 Score (Weighted): 0.02\nPróxima ubicación del barco: Souda Bay\n"
     ]
    },
    {
     "output_type": "stream",
     "name": "stderr",
     "output_type": "stream",
     "text": [
      "2024/11/11 02:56:24 WARNING mlflow.models.model: Model logged without a signature. Signatures will be required for upcoming model registry features as they validate model inputs and denote the expected schema of model outputs. Please visit https://www.mlflow.org/docs/2.15.1/models.html#set-signature-on-logged-model for instructions on setting a model signature on your logged model.\n"
     ]
    },
    {
     "output_type": "display_data",
     "data": {
      "application/vnd.jupyter.widget-view+json": {
       "model_id": "6a895e1ec9354f9799b3ceb7aa9267b0",
       "version_major": 2,
       "version_minor": 0
      },
      "text/plain": [
       "Uploading artifacts:   0%|          | 0/9 [00:00<?, ?it/s]"
      ]
     },
     "metadata": {},
     "output_type": "display_data"
    },
    {
     "output_type": "stream",
     "name": "stderr",
     "output_type": "stream",
     "text": [
      "2024/11/11 02:56:25 WARNING mlflow.models.model: Input example should be provided to infer model signature if the model signature is not provided when logging the model.\n2024/11/11 02:56:25 INFO mlflow.tracking._tracking_service.client: 🏃 View run abrasive-turtle-980 at: https://community.cloud.databricks.com/ml/experiments/3923292881806332/runs/da62024da2ef4d5fae755bb899caa416.\n2024/11/11 02:56:25 INFO mlflow.tracking._tracking_service.client: 🧪 View experiment at: https://community.cloud.databricks.com/ml/experiments/3923292881806332.\n"
     ]
    }
   ],
   "source": [
    "import pandas as pd\n",
    "from sklearn.linear_model import LogisticRegression\n",
    "from sklearn.model_selection import train_test_split, GridSearchCV\n",
    "from sklearn.preprocessing import LabelEncoder\n",
    "from sklearn.metrics import accuracy_score, precision_score, recall_score, f1_score\n",
    "import mlflow\n",
    "import mlflow.sklearn\n",
    "import warnings\n",
    "warnings.filterwarnings(\"ignore\")\n",
    "\n",
    "\n",
    "url = 'https://github.com/anfisbena/MIAD-DSA/raw/refs/heads/main/data/RTOP.csv'\n",
    "df = pd.read_csv(url, encoding='ISO-8859-1')\n",
    "df = df.rename(columns={'Ship ID - Ship Classification': 'Vessel Type', 'Ship - Name': 'Ship Name'})\n",
    "\n",
    "def clean_df(df):\n",
    "    df_clean = df[['Ship Name', 'Vessel Type', 'Country', 'Location', 'Arrival', 'Departure', 'Status']]\n",
    "    df_clean = df_clean.dropna(subset=['Arrival', 'Departure', 'Ship Name', 'Location', 'Vessel Type', 'Status'])\n",
    "    df_clean = df_clean[df_clean['Status'] != 'Cancelled']\n",
    "    # Convertir las columnas 'Arrival' y 'Departure' a datetime\n",
    "    df_clean['Arrival'] = pd.to_datetime(df_clean['Arrival'], errors='coerce')\n",
    "    df_clean['Departure'] = pd.to_datetime(df_clean['Departure'], errors='coerce')\n",
    "    df_clean['Duration'] = (df_clean['Departure'] - df_clean['Arrival']).dt.days\n",
    "    # Filtrar las filas donde 'Duration' sea menor o igual a 60 días\n",
    "    df_clean = df_clean[(df_clean['Duration'] <= 60) & (df_clean['Duration'] >= 0)]\n",
    "    return df_clean\n",
    "\n",
    "def predict_next_location(df_c, ship_name='Trenton'):\n",
    "    df = df_c[df_c['Ship Name'] == ship_name].copy()\n",
    "\n",
    "    # Convertir columnas de fecha a formato datetime\n",
    "    df['Arrival'] = pd.to_datetime(df['Arrival'])\n",
    "    df['Departure'] = pd.to_datetime(df['Departure'])\n",
    "\n",
    "    # Convertir columnas de fechas y agregar variables temporales\n",
    "    df['Arrival_ordinal'] = df['Arrival'].map(pd.Timestamp.toordinal)\n",
    "    df['Departure_ordinal'] = df['Departure'].map(pd.Timestamp.toordinal)\n",
    "    df['Arrival_Month'] = df['Arrival'].dt.month\n",
    "    df['Arrival_Year'] = df['Arrival'].dt.year\n",
    "    df['Arrival_DayOfWeek'] = df['Arrival'].dt.dayofweek\n",
    "\n",
    "    # Codificar características categóricas\n",
    "    label_encoders = {}\n",
    "    for col in ['Ship Name', 'Country', 'Location']:\n",
    "        le = LabelEncoder()\n",
    "        df[col] = le.fit_transform(df[col])\n",
    "        label_encoders[col] = le\n",
    "\n",
    "    # Definir características (X) y variables objetivo (y)\n",
    "    X = df[['Country', 'Arrival_ordinal', 'Departure_ordinal', 'Arrival_Month', 'Arrival_Year', 'Arrival_DayOfWeek']]\n",
    "    y_location = df['Location']\n",
    "\n",
    "    # Dividir los datos en conjunto de entrenamiento y prueba\n",
    "    X_train, X_test, y_train_location, y_test_location = train_test_split(X, y_location, test_size=0.10, random_state=42)\n",
    "\n",
    "    # Crear el modelo de regresión logística\n",
    "    model_location = LogisticRegression()\n",
    "\n",
    "    # Definir los hiperparámetros a optimizar\n",
    "    param_grid = {\n",
    "        'penalty': ['l1', 'l2', 'elasticnet', 'none'],\n",
    "        'C': [0.01, 0.1, 1, 10, 100],\n",
    "        'solver': ['lbfgs', 'liblinear', 'saga']\n",
    "    }\n",
    "\n",
    "    # Configurar la validación cruzada con GridSearchCV\n",
    "    grid_search = GridSearchCV(model_location, param_grid, cv=5, scoring='accuracy')\n",
    "    grid_search.fit(X_train, y_train_location)\n",
    "\n",
    "    # Obtener el mejor modelo\n",
    "    best_model = grid_search.best_estimator_\n",
    "\n",
    "    # Evaluar el modelo con los datos de prueba\n",
    "    y_pred = best_model.predict(X_test)\n",
    "    location_accuracy = accuracy_score(y_test_location, y_pred)\n",
    "    location_precision = precision_score(y_test_location, y_pred, average='weighted')\n",
    "    location_recall = recall_score(y_test_location, y_pred, average='weighted')\n",
    "    location_f1 = f1_score(y_test_location, y_pred, average='weighted')\n",
    "\n",
    "    # Predecir la próxima ubicación del barco\n",
    "    next_data = X_test.iloc[0].values.reshape(1, -1)\n",
    "    predicted_location = best_model.predict(next_data)\n",
    "\n",
    "    # Decodificar Location\n",
    "    predicted_location = label_encoders['Location'].inverse_transform(predicted_location)\n",
    "\n",
    "    print(f\"Precisión de Ubicación: {location_accuracy * 100:.2f}%\")\n",
    "    print(f\"Precisión (Weighted): {location_precision:.2f}\")\n",
    "    print(f\"Recall (Weighted): {location_recall:.2f}\")\n",
    "    print(f\"F1 Score (Weighted): {location_f1:.2f}\")\n",
    "\n",
    "    return predicted_location[0], location_accuracy, best_model\n",
    "#____________________________________________________________________________________________________\n",
    "# Uso de la función\n",
    "\n",
    "experiment = mlflow.set_experiment(\"/Users/republicacoc@gmail.com/RandClass\")\n",
    "predicted_location, location_accuracy,model = predict_next_location(clean_df(df))\n",
    "print(f\"Próxima ubicación del barco: {predicted_location}\")\n",
    "with mlflow.start_run(experiment_id=experiment.experiment_id):\n",
    "    # Registre los parámetros\n",
    "    mlflow.log_param(\"predicted location\", predicted_location)\n",
    "    # Registre el modelo\n",
    "    mlflow.sklearn.log_model(model, \"logistic-regression-model\")\n",
    "\n",
    "    # Cree y registre la métrica de interés\n",
    "    mlflow.log_metric(\"accuracy\", location_accuracy)\n"
   ]
  }
 ],
 "metadata": {
  "application/vnd.databricks.v1+notebook": {
   "dashboards": [],
   "environmentMetadata": null,
   "language": "python",
   "notebookMetadata": {
    "pythonIndentUnit": 2
   },
   "notebookName": "Logistic Reg Class",
   "widgets": {}
  }
 },
 "nbformat": 4,
 "nbformat_minor": 0
}
